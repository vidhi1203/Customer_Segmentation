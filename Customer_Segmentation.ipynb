{
  "nbformat": 4,
  "nbformat_minor": 0,
  "metadata": {
    "colab": {
      "provenance": []
    },
    "kernelspec": {
      "name": "python3",
      "display_name": "Python 3"
    },
    "language_info": {
      "name": "python"
    }
  },
  "cells": [
    {
      "cell_type": "markdown",
      "metadata": {
        "id": "oq8dHYzISlVN"
      },
      "source": [
        "Case Study - Reseach Group\n",
        "\n",
        "Topic - Customer Segmentation\n",
        "\n",
        "**Vidhi Vazirani**\n",
        "\n",
        "MBA Tech CE - 4th Year"
      ]
    },
    {
      "cell_type": "markdown",
      "metadata": {
        "id": "_r3GMLbcUcu6"
      },
      "source": [
        "## Loading the dataset"
      ]
    },
    {
      "cell_type": "code",
      "metadata": {
        "id": "lVC218IxEyAU"
      },
      "source": [
        "import numpy as np\n",
        "import pandas as pd\n",
        "import matplotlib.pyplot as plt"
      ],
      "execution_count": null,
      "outputs": []
    },
    {
      "cell_type": "code",
      "metadata": {
        "id": "IslZvWZoE5uI"
      },
      "source": [
        "# reading the dataset\n",
        "df = pd.read_csv('Orders - Analysis Task.csv')"
      ],
      "execution_count": null,
      "outputs": []
    },
    {
      "cell_type": "markdown",
      "metadata": {
        "id": "shEY4tlAUkmw"
      },
      "source": [
        "## Data Preprocessing\n"
      ]
    },
    {
      "cell_type": "markdown",
      "metadata": {
        "id": "r_evGr6gUyF2"
      },
      "source": [
        "### Data Exploration"
      ]
    },
    {
      "cell_type": "code",
      "metadata": {
        "colab": {
          "base_uri": "https://localhost:8080/",
          "height": 398
        },
        "id": "ZikW8hYkFAHt",
        "outputId": "292c17a5-a073-41e9-86c0-51b053ff81e8"
      },
      "source": [
        "# seeing the first 5 rows\n",
        "df.head()"
      ],
      "execution_count": null,
      "outputs": [
        {
          "output_type": "execute_result",
          "data": {
            "text/html": [
              "<div>\n",
              "<style scoped>\n",
              "    .dataframe tbody tr th:only-of-type {\n",
              "        vertical-align: middle;\n",
              "    }\n",
              "\n",
              "    .dataframe tbody tr th {\n",
              "        vertical-align: top;\n",
              "    }\n",
              "\n",
              "    .dataframe thead th {\n",
              "        text-align: right;\n",
              "    }\n",
              "</style>\n",
              "<table border=\"1\" class=\"dataframe\">\n",
              "  <thead>\n",
              "    <tr style=\"text-align: right;\">\n",
              "      <th></th>\n",
              "      <th>product_title</th>\n",
              "      <th>product_type</th>\n",
              "      <th>variant_title</th>\n",
              "      <th>variant_sku</th>\n",
              "      <th>variant_id</th>\n",
              "      <th>customer_id</th>\n",
              "      <th>order_id</th>\n",
              "      <th>day</th>\n",
              "      <th>net_quantity</th>\n",
              "      <th>gross_sales</th>\n",
              "      <th>discounts</th>\n",
              "      <th>returns</th>\n",
              "      <th>net_sales</th>\n",
              "      <th>taxes</th>\n",
              "      <th>total_sales</th>\n",
              "      <th>returned_item_quantity</th>\n",
              "      <th>ordered_item_quantity</th>\n",
              "    </tr>\n",
              "  </thead>\n",
              "  <tbody>\n",
              "    <tr>\n",
              "      <th>0</th>\n",
              "      <td>DPR</td>\n",
              "      <td>DPR</td>\n",
              "      <td>100</td>\n",
              "      <td>AD-982-708-895-F-6C894FB</td>\n",
              "      <td>52039657</td>\n",
              "      <td>1312378</td>\n",
              "      <td>83290718932496</td>\n",
              "      <td>04/12/2018</td>\n",
              "      <td>2</td>\n",
              "      <td>200.0</td>\n",
              "      <td>-200.00</td>\n",
              "      <td>0.00</td>\n",
              "      <td>0.0</td>\n",
              "      <td>0.0</td>\n",
              "      <td>0.0</td>\n",
              "      <td>0</td>\n",
              "      <td>2</td>\n",
              "    </tr>\n",
              "    <tr>\n",
              "      <th>1</th>\n",
              "      <td>RJF</td>\n",
              "      <td>Product P</td>\n",
              "      <td>28 / A / MTM</td>\n",
              "      <td>83-490-E49-8C8-8-3B100BC</td>\n",
              "      <td>56914686</td>\n",
              "      <td>3715657</td>\n",
              "      <td>36253792848113</td>\n",
              "      <td>01/04/2019</td>\n",
              "      <td>2</td>\n",
              "      <td>190.0</td>\n",
              "      <td>-190.00</td>\n",
              "      <td>0.00</td>\n",
              "      <td>0.0</td>\n",
              "      <td>0.0</td>\n",
              "      <td>0.0</td>\n",
              "      <td>0</td>\n",
              "      <td>2</td>\n",
              "    </tr>\n",
              "    <tr>\n",
              "      <th>2</th>\n",
              "      <td>CLH</td>\n",
              "      <td>Product B</td>\n",
              "      <td>32 / B / FtO</td>\n",
              "      <td>68-ECA-BC7-3B2-A-E73DE1B</td>\n",
              "      <td>24064862</td>\n",
              "      <td>9533448</td>\n",
              "      <td>73094559597229</td>\n",
              "      <td>05/11/2018</td>\n",
              "      <td>0</td>\n",
              "      <td>164.8</td>\n",
              "      <td>-156.56</td>\n",
              "      <td>-8.24</td>\n",
              "      <td>0.0</td>\n",
              "      <td>0.0</td>\n",
              "      <td>0.0</td>\n",
              "      <td>-2</td>\n",
              "      <td>2</td>\n",
              "    </tr>\n",
              "    <tr>\n",
              "      <th>3</th>\n",
              "      <td>NMA</td>\n",
              "      <td>Product F</td>\n",
              "      <td>40 / B / FtO</td>\n",
              "      <td>6C-1F1-226-1B3-2-3542B41</td>\n",
              "      <td>43823868</td>\n",
              "      <td>4121004</td>\n",
              "      <td>53616575668264</td>\n",
              "      <td>19/02/2019</td>\n",
              "      <td>1</td>\n",
              "      <td>119.0</td>\n",
              "      <td>-119.00</td>\n",
              "      <td>0.00</td>\n",
              "      <td>0.0</td>\n",
              "      <td>0.0</td>\n",
              "      <td>0.0</td>\n",
              "      <td>0</td>\n",
              "      <td>1</td>\n",
              "    </tr>\n",
              "    <tr>\n",
              "      <th>4</th>\n",
              "      <td>NMA</td>\n",
              "      <td>Product F</td>\n",
              "      <td>40 / B / FtO</td>\n",
              "      <td>6C-1F1-226-1B3-2-3542B41</td>\n",
              "      <td>43823868</td>\n",
              "      <td>4121004</td>\n",
              "      <td>29263220319421</td>\n",
              "      <td>19/02/2019</td>\n",
              "      <td>1</td>\n",
              "      <td>119.0</td>\n",
              "      <td>-119.00</td>\n",
              "      <td>0.00</td>\n",
              "      <td>0.0</td>\n",
              "      <td>0.0</td>\n",
              "      <td>0.0</td>\n",
              "      <td>0</td>\n",
              "      <td>1</td>\n",
              "    </tr>\n",
              "  </tbody>\n",
              "</table>\n",
              "</div>"
            ],
            "text/plain": [
              "  product_title product_type  ... returned_item_quantity ordered_item_quantity\n",
              "0           DPR          DPR  ...                      0                     2\n",
              "1           RJF    Product P  ...                      0                     2\n",
              "2           CLH    Product B  ...                     -2                     2\n",
              "3           NMA    Product F  ...                      0                     1\n",
              "4           NMA    Product F  ...                      0                     1\n",
              "\n",
              "[5 rows x 17 columns]"
            ]
          },
          "metadata": {},
          "execution_count": 9
        }
      ]
    },
    {
      "cell_type": "code",
      "metadata": {
        "colab": {
          "base_uri": "https://localhost:8080/"
        },
        "id": "o0SPGfn0IzMv",
        "outputId": "c5cdc8dd-ce5f-4376-d089-cbe029162379"
      },
      "source": [
        "# shape of dataset\n",
        "df.shape"
      ],
      "execution_count": null,
      "outputs": [
        {
          "output_type": "execute_result",
          "data": {
            "text/plain": [
              "(70052, 17)"
            ]
          },
          "metadata": {},
          "execution_count": 10
        }
      ]
    },
    {
      "cell_type": "code",
      "metadata": {
        "colab": {
          "base_uri": "https://localhost:8080/"
        },
        "id": "kpBIQpUIHDjZ",
        "outputId": "dfdb53b5-5617-459d-89dc-9e96f72a37a5"
      },
      "source": [
        "# column names\n",
        "df.columns"
      ],
      "execution_count": null,
      "outputs": [
        {
          "output_type": "execute_result",
          "data": {
            "text/plain": [
              "Index(['product_title', 'product_type', 'variant_title', 'variant_sku',\n",
              "       'variant_id', 'customer_id', 'order_id', 'day', 'net_quantity',\n",
              "       'gross_sales', 'discounts', 'returns', 'net_sales', 'taxes',\n",
              "       'total_sales', 'returned_item_quantity', 'ordered_item_quantity'],\n",
              "      dtype='object')"
            ]
          },
          "metadata": {},
          "execution_count": 11
        }
      ]
    },
    {
      "cell_type": "code",
      "metadata": {
        "colab": {
          "base_uri": "https://localhost:8080/"
        },
        "id": "t2JEYrucHHWD",
        "outputId": "8e9d485d-99fa-4915-c163-bac718029ddc"
      },
      "source": [
        "# information of each column\n",
        "df.info()"
      ],
      "execution_count": null,
      "outputs": [
        {
          "output_type": "stream",
          "name": "stdout",
          "text": [
            "<class 'pandas.core.frame.DataFrame'>\n",
            "RangeIndex: 70052 entries, 0 to 70051\n",
            "Data columns (total 17 columns):\n",
            " #   Column                  Non-Null Count  Dtype  \n",
            "---  ------                  --------------  -----  \n",
            " 0   product_title           70052 non-null  object \n",
            " 1   product_type            70052 non-null  object \n",
            " 2   variant_title           70052 non-null  object \n",
            " 3   variant_sku             70052 non-null  object \n",
            " 4   variant_id              70052 non-null  int64  \n",
            " 5   customer_id             70052 non-null  int64  \n",
            " 6   order_id                70052 non-null  int64  \n",
            " 7   day                     70052 non-null  object \n",
            " 8   net_quantity            70052 non-null  int64  \n",
            " 9   gross_sales             70052 non-null  float64\n",
            " 10  discounts               70052 non-null  float64\n",
            " 11  returns                 70052 non-null  float64\n",
            " 12  net_sales               70052 non-null  float64\n",
            " 13  taxes                   70052 non-null  float64\n",
            " 14  total_sales             70052 non-null  float64\n",
            " 15  returned_item_quantity  70052 non-null  int64  \n",
            " 16  ordered_item_quantity   70052 non-null  int64  \n",
            "dtypes: float64(6), int64(6), object(5)\n",
            "memory usage: 9.1+ MB\n"
          ]
        }
      ]
    },
    {
      "cell_type": "markdown",
      "metadata": {
        "id": "BWnParSkI1iO"
      },
      "source": [
        "***As observed from the information given above, no feature has any null values or missing values.***\n",
        "\n"
      ]
    },
    {
      "cell_type": "code",
      "metadata": {
        "colab": {
          "base_uri": "https://localhost:8080/",
          "height": 319
        },
        "id": "AuiprH4TIBIP",
        "outputId": "35721af3-060f-4da4-bd8b-14dfe8fed62d"
      },
      "source": [
        "# 5 point summary of each column\n",
        "df.describe()"
      ],
      "execution_count": null,
      "outputs": [
        {
          "output_type": "execute_result",
          "data": {
            "text/html": [
              "<div>\n",
              "<style scoped>\n",
              "    .dataframe tbody tr th:only-of-type {\n",
              "        vertical-align: middle;\n",
              "    }\n",
              "\n",
              "    .dataframe tbody tr th {\n",
              "        vertical-align: top;\n",
              "    }\n",
              "\n",
              "    .dataframe thead th {\n",
              "        text-align: right;\n",
              "    }\n",
              "</style>\n",
              "<table border=\"1\" class=\"dataframe\">\n",
              "  <thead>\n",
              "    <tr style=\"text-align: right;\">\n",
              "      <th></th>\n",
              "      <th>variant_id</th>\n",
              "      <th>customer_id</th>\n",
              "      <th>order_id</th>\n",
              "      <th>net_quantity</th>\n",
              "      <th>gross_sales</th>\n",
              "      <th>discounts</th>\n",
              "      <th>returns</th>\n",
              "      <th>net_sales</th>\n",
              "      <th>taxes</th>\n",
              "      <th>total_sales</th>\n",
              "      <th>returned_item_quantity</th>\n",
              "      <th>ordered_item_quantity</th>\n",
              "    </tr>\n",
              "  </thead>\n",
              "  <tbody>\n",
              "    <tr>\n",
              "      <th>count</th>\n",
              "      <td>7.005200e+04</td>\n",
              "      <td>7.005200e+04</td>\n",
              "      <td>7.005200e+04</td>\n",
              "      <td>70052.000000</td>\n",
              "      <td>70052.000000</td>\n",
              "      <td>70052.000000</td>\n",
              "      <td>70052.000000</td>\n",
              "      <td>70052.000000</td>\n",
              "      <td>70052.000000</td>\n",
              "      <td>70052.000000</td>\n",
              "      <td>70052.000000</td>\n",
              "      <td>70052.000000</td>\n",
              "    </tr>\n",
              "    <tr>\n",
              "      <th>mean</th>\n",
              "      <td>2.442320e+11</td>\n",
              "      <td>6.013091e+11</td>\n",
              "      <td>5.506075e+13</td>\n",
              "      <td>0.701179</td>\n",
              "      <td>61.776302</td>\n",
              "      <td>-4.949904</td>\n",
              "      <td>-10.246051</td>\n",
              "      <td>46.580348</td>\n",
              "      <td>9.123636</td>\n",
              "      <td>55.703982</td>\n",
              "      <td>-0.156098</td>\n",
              "      <td>0.857277</td>\n",
              "    </tr>\n",
              "    <tr>\n",
              "      <th>std</th>\n",
              "      <td>4.255079e+12</td>\n",
              "      <td>6.223201e+12</td>\n",
              "      <td>2.587640e+13</td>\n",
              "      <td>0.739497</td>\n",
              "      <td>31.800689</td>\n",
              "      <td>7.769972</td>\n",
              "      <td>25.154677</td>\n",
              "      <td>51.802690</td>\n",
              "      <td>10.305236</td>\n",
              "      <td>61.920557</td>\n",
              "      <td>0.369190</td>\n",
              "      <td>0.380820</td>\n",
              "    </tr>\n",
              "    <tr>\n",
              "      <th>min</th>\n",
              "      <td>1.001447e+07</td>\n",
              "      <td>1.000661e+06</td>\n",
              "      <td>1.000657e+13</td>\n",
              "      <td>-3.000000</td>\n",
              "      <td>0.000000</td>\n",
              "      <td>-200.000000</td>\n",
              "      <td>-237.500000</td>\n",
              "      <td>-237.500000</td>\n",
              "      <td>-47.500000</td>\n",
              "      <td>-285.000000</td>\n",
              "      <td>-3.000000</td>\n",
              "      <td>0.000000</td>\n",
              "    </tr>\n",
              "    <tr>\n",
              "      <th>25%</th>\n",
              "      <td>2.692223e+07</td>\n",
              "      <td>3.295695e+06</td>\n",
              "      <td>3.270317e+13</td>\n",
              "      <td>1.000000</td>\n",
              "      <td>51.670000</td>\n",
              "      <td>-8.340000</td>\n",
              "      <td>0.000000</td>\n",
              "      <td>47.080000</td>\n",
              "      <td>8.375000</td>\n",
              "      <td>56.227500</td>\n",
              "      <td>0.000000</td>\n",
              "      <td>1.000000</td>\n",
              "    </tr>\n",
              "    <tr>\n",
              "      <th>50%</th>\n",
              "      <td>4.494514e+07</td>\n",
              "      <td>5.566107e+06</td>\n",
              "      <td>5.522207e+13</td>\n",
              "      <td>1.000000</td>\n",
              "      <td>74.170000</td>\n",
              "      <td>0.000000</td>\n",
              "      <td>0.000000</td>\n",
              "      <td>63.330000</td>\n",
              "      <td>12.660000</td>\n",
              "      <td>76.000000</td>\n",
              "      <td>0.000000</td>\n",
              "      <td>1.000000</td>\n",
              "    </tr>\n",
              "    <tr>\n",
              "      <th>75%</th>\n",
              "      <td>7.743106e+07</td>\n",
              "      <td>7.815352e+06</td>\n",
              "      <td>7.736876e+13</td>\n",
              "      <td>1.000000</td>\n",
              "      <td>79.170000</td>\n",
              "      <td>0.000000</td>\n",
              "      <td>0.000000</td>\n",
              "      <td>74.170000</td>\n",
              "      <td>14.840000</td>\n",
              "      <td>89.000000</td>\n",
              "      <td>0.000000</td>\n",
              "      <td>1.000000</td>\n",
              "    </tr>\n",
              "    <tr>\n",
              "      <th>max</th>\n",
              "      <td>8.422212e+13</td>\n",
              "      <td>9.977409e+13</td>\n",
              "      <td>9.999554e+13</td>\n",
              "      <td>6.000000</td>\n",
              "      <td>445.000000</td>\n",
              "      <td>0.000000</td>\n",
              "      <td>0.000000</td>\n",
              "      <td>445.000000</td>\n",
              "      <td>63.340000</td>\n",
              "      <td>445.000000</td>\n",
              "      <td>0.000000</td>\n",
              "      <td>6.000000</td>\n",
              "    </tr>\n",
              "  </tbody>\n",
              "</table>\n",
              "</div>"
            ],
            "text/plain": [
              "         variant_id  ...  ordered_item_quantity\n",
              "count  7.005200e+04  ...           70052.000000\n",
              "mean   2.442320e+11  ...               0.857277\n",
              "std    4.255079e+12  ...               0.380820\n",
              "min    1.001447e+07  ...               0.000000\n",
              "25%    2.692223e+07  ...               1.000000\n",
              "50%    4.494514e+07  ...               1.000000\n",
              "75%    7.743106e+07  ...               1.000000\n",
              "max    8.422212e+13  ...               6.000000\n",
              "\n",
              "[8 rows x 12 columns]"
            ]
          },
          "metadata": {},
          "execution_count": 13
        }
      ]
    },
    {
      "cell_type": "markdown",
      "metadata": {
        "id": "3jI49bu8IRLc"
      },
      "source": [
        "### Data cleaning\n",
        "***The minimum net quantity is a negative number, which is not acceptable. Thus that needs to be explored and corrected.***"
      ]
    },
    {
      "cell_type": "code",
      "metadata": {
        "colab": {
          "base_uri": "https://localhost:8080/"
        },
        "id": "MeHYov_AIGoK",
        "outputId": "c853b279-31e3-4bde-e5b1-588acfb4c880"
      },
      "source": [
        "# number of rows with negative net quantity\n",
        "df[df['net_quantity']<0].count(1).shape"
      ],
      "execution_count": null,
      "outputs": [
        {
          "output_type": "execute_result",
          "data": {
            "text/plain": [
              "(10715,)"
            ]
          },
          "metadata": {},
          "execution_count": 14
        }
      ]
    },
    {
      "cell_type": "markdown",
      "metadata": {
        "id": "JqtE3RonJfg0"
      },
      "source": [
        "***Around 10k rows have a negative net quantity. Since we cannot do anything about such cases, it is best to drop these rows. We will do the same by removing those products whose ordered_item_quantity is 0, ie, no units of that item have been sold.***"
      ]
    },
    {
      "cell_type": "code",
      "metadata": {
        "colab": {
          "base_uri": "https://localhost:8080/"
        },
        "id": "yY2v5GG5JLoq",
        "outputId": "270d9041-4ff1-4506-c7b7-75d6faf59314"
      },
      "source": [
        "df = df[df['ordered_item_quantity']>0]\n",
        "df.shape"
      ],
      "execution_count": null,
      "outputs": [
        {
          "output_type": "execute_result",
          "data": {
            "text/plain": [
              "(59337, 17)"
            ]
          },
          "metadata": {},
          "execution_count": 15
        }
      ]
    },
    {
      "cell_type": "markdown",
      "metadata": {
        "id": "YLRX5tMRUZNb"
      },
      "source": [
        "### Feature Reduction\n",
        "To simplify the  model and not overfit it, all features will not be used. Only 3 fetures will be used:\n",
        "1. Products ordered per customer\n",
        "2. Average return rate\n",
        "3. Total spending"
      ]
    },
    {
      "cell_type": "markdown",
      "metadata": {
        "id": "6l2sblknWstG"
      },
      "source": [
        "***Calculating the number of products ordered by each customer based on the customer id and product type***"
      ]
    },
    {
      "cell_type": "code",
      "metadata": {
        "id": "Rx2Om0yJJ-Yg"
      },
      "source": [
        "def binary(column):\n",
        "  if column > 0:\n",
        "    return 1\n",
        "  else:\n",
        "    return 0"
      ],
      "execution_count": null,
      "outputs": []
    },
    {
      "cell_type": "code",
      "metadata": {
        "id": "oaP9dPVMK3wN"
      },
      "source": [
        "def number_of_orders_per_customer(df, columns):\n",
        "  df1 = (df.groupby(columns).ordered_item_quantity.count().reset_index())\n",
        "  # print(df1.head())\n",
        "\n",
        "  df1['products_order'] = (df1.ordered_item_quantity.apply(binary))\n",
        "  # print(df1.head())\n",
        "\n",
        "  final_df = (df1.groupby(columns[0]).products_order.sum().reset_index())\n",
        "\n",
        "  return final_df"
      ],
      "execution_count": null,
      "outputs": []
    },
    {
      "cell_type": "code",
      "metadata": {
        "colab": {
          "base_uri": "https://localhost:8080/",
          "height": 205
        },
        "id": "5XAzcVrBLyLz",
        "outputId": "927a00c6-bdf5-4d6e-890c-f9fe76bbb19c"
      },
      "source": [
        "customers = number_of_orders_per_customer(df, ['customer_id', 'product_type'])\n",
        "customers.head()"
      ],
      "execution_count": null,
      "outputs": [
        {
          "output_type": "execute_result",
          "data": {
            "text/html": [
              "<div>\n",
              "<style scoped>\n",
              "    .dataframe tbody tr th:only-of-type {\n",
              "        vertical-align: middle;\n",
              "    }\n",
              "\n",
              "    .dataframe tbody tr th {\n",
              "        vertical-align: top;\n",
              "    }\n",
              "\n",
              "    .dataframe thead th {\n",
              "        text-align: right;\n",
              "    }\n",
              "</style>\n",
              "<table border=\"1\" class=\"dataframe\">\n",
              "  <thead>\n",
              "    <tr style=\"text-align: right;\">\n",
              "      <th></th>\n",
              "      <th>customer_id</th>\n",
              "      <th>products_order</th>\n",
              "    </tr>\n",
              "  </thead>\n",
              "  <tbody>\n",
              "    <tr>\n",
              "      <th>0</th>\n",
              "      <td>1000661</td>\n",
              "      <td>1</td>\n",
              "    </tr>\n",
              "    <tr>\n",
              "      <th>1</th>\n",
              "      <td>1001914</td>\n",
              "      <td>1</td>\n",
              "    </tr>\n",
              "    <tr>\n",
              "      <th>2</th>\n",
              "      <td>1002167</td>\n",
              "      <td>3</td>\n",
              "    </tr>\n",
              "    <tr>\n",
              "      <th>3</th>\n",
              "      <td>1002387</td>\n",
              "      <td>1</td>\n",
              "    </tr>\n",
              "    <tr>\n",
              "      <th>4</th>\n",
              "      <td>1002419</td>\n",
              "      <td>2</td>\n",
              "    </tr>\n",
              "  </tbody>\n",
              "</table>\n",
              "</div>"
            ],
            "text/plain": [
              "   customer_id  products_order\n",
              "0      1000661               1\n",
              "1      1001914               1\n",
              "2      1002167               3\n",
              "3      1002387               1\n",
              "4      1002419               2"
            ]
          },
          "metadata": {},
          "execution_count": 18
        }
      ]
    },
    {
      "cell_type": "code",
      "metadata": {
        "colab": {
          "base_uri": "https://localhost:8080/"
        },
        "id": "Z-R7Jen2MX1F",
        "outputId": "2c66902b-161e-43c0-d733-2af566f79e6e"
      },
      "source": [
        "customers.shape"
      ],
      "execution_count": null,
      "outputs": [
        {
          "output_type": "execute_result",
          "data": {
            "text/plain": [
              "(24874, 2)"
            ]
          },
          "metadata": {},
          "execution_count": 19
        }
      ]
    },
    {
      "cell_type": "markdown",
      "metadata": {
        "id": "mZcGDokpXI1x"
      },
      "source": [
        "***Making a dataset that shows the average return rate of per customer's per product***"
      ]
    },
    {
      "cell_type": "code",
      "metadata": {
        "colab": {
          "base_uri": "https://localhost:8080/",
          "height": 422
        },
        "id": "4dJDx3DOOQOb",
        "outputId": "22c79bd0-6d85-453b-f626-85233c99c4bc"
      },
      "source": [
        "# making a dataframe for quantity ordered\n",
        "df_ordered = (df.groupby(['customer_id','order_id']).ordered_item_quantity.sum().reset_index())\n",
        "df_ordered"
      ],
      "execution_count": null,
      "outputs": [
        {
          "output_type": "execute_result",
          "data": {
            "text/html": [
              "<div>\n",
              "<style scoped>\n",
              "    .dataframe tbody tr th:only-of-type {\n",
              "        vertical-align: middle;\n",
              "    }\n",
              "\n",
              "    .dataframe tbody tr th {\n",
              "        vertical-align: top;\n",
              "    }\n",
              "\n",
              "    .dataframe thead th {\n",
              "        text-align: right;\n",
              "    }\n",
              "</style>\n",
              "<table border=\"1\" class=\"dataframe\">\n",
              "  <thead>\n",
              "    <tr style=\"text-align: right;\">\n",
              "      <th></th>\n",
              "      <th>customer_id</th>\n",
              "      <th>order_id</th>\n",
              "      <th>ordered_item_quantity</th>\n",
              "    </tr>\n",
              "  </thead>\n",
              "  <tbody>\n",
              "    <tr>\n",
              "      <th>0</th>\n",
              "      <td>1000661</td>\n",
              "      <td>99119989117212</td>\n",
              "      <td>3</td>\n",
              "    </tr>\n",
              "    <tr>\n",
              "      <th>1</th>\n",
              "      <td>1001914</td>\n",
              "      <td>79758569034715</td>\n",
              "      <td>1</td>\n",
              "    </tr>\n",
              "    <tr>\n",
              "      <th>2</th>\n",
              "      <td>1002167</td>\n",
              "      <td>38156088848638</td>\n",
              "      <td>1</td>\n",
              "    </tr>\n",
              "    <tr>\n",
              "      <th>3</th>\n",
              "      <td>1002167</td>\n",
              "      <td>57440147820257</td>\n",
              "      <td>1</td>\n",
              "    </tr>\n",
              "    <tr>\n",
              "      <th>4</th>\n",
              "      <td>1002167</td>\n",
              "      <td>58825523953710</td>\n",
              "      <td>1</td>\n",
              "    </tr>\n",
              "    <tr>\n",
              "      <th>...</th>\n",
              "      <td>...</td>\n",
              "      <td>...</td>\n",
              "      <td>...</td>\n",
              "    </tr>\n",
              "    <tr>\n",
              "      <th>42131</th>\n",
              "      <td>98854671633650</td>\n",
              "      <td>57138827010765</td>\n",
              "      <td>1</td>\n",
              "    </tr>\n",
              "    <tr>\n",
              "      <th>42132</th>\n",
              "      <td>98974226154136</td>\n",
              "      <td>45066842874543</td>\n",
              "      <td>1</td>\n",
              "    </tr>\n",
              "    <tr>\n",
              "      <th>42133</th>\n",
              "      <td>99262726332691</td>\n",
              "      <td>88173870014223</td>\n",
              "      <td>2</td>\n",
              "    </tr>\n",
              "    <tr>\n",
              "      <th>42134</th>\n",
              "      <td>99262726332691</td>\n",
              "      <td>99798633226297</td>\n",
              "      <td>1</td>\n",
              "    </tr>\n",
              "    <tr>\n",
              "      <th>42135</th>\n",
              "      <td>99549917598660</td>\n",
              "      <td>55244590337988</td>\n",
              "      <td>1</td>\n",
              "    </tr>\n",
              "  </tbody>\n",
              "</table>\n",
              "<p>42136 rows × 3 columns</p>\n",
              "</div>"
            ],
            "text/plain": [
              "          customer_id        order_id  ordered_item_quantity\n",
              "0             1000661  99119989117212                      3\n",
              "1             1001914  79758569034715                      1\n",
              "2             1002167  38156088848638                      1\n",
              "3             1002167  57440147820257                      1\n",
              "4             1002167  58825523953710                      1\n",
              "...               ...             ...                    ...\n",
              "42131  98854671633650  57138827010765                      1\n",
              "42132  98974226154136  45066842874543                      1\n",
              "42133  99262726332691  88173870014223                      2\n",
              "42134  99262726332691  99798633226297                      1\n",
              "42135  99549917598660  55244590337988                      1\n",
              "\n",
              "[42136 rows x 3 columns]"
            ]
          },
          "metadata": {},
          "execution_count": 20
        }
      ]
    },
    {
      "cell_type": "code",
      "metadata": {
        "colab": {
          "base_uri": "https://localhost:8080/",
          "height": 205
        },
        "id": "1RhhfEoqOhXS",
        "outputId": "4d91b1ca-8f87-4ca1-fb54-1b2894c6ca60"
      },
      "source": [
        "# making a dataframe for quantity returned \n",
        "df_returned = (df.groupby(['customer_id','order_id']).returned_item_quantity.sum().reset_index())\n",
        "df_returned.head()"
      ],
      "execution_count": null,
      "outputs": [
        {
          "output_type": "execute_result",
          "data": {
            "text/html": [
              "<div>\n",
              "<style scoped>\n",
              "    .dataframe tbody tr th:only-of-type {\n",
              "        vertical-align: middle;\n",
              "    }\n",
              "\n",
              "    .dataframe tbody tr th {\n",
              "        vertical-align: top;\n",
              "    }\n",
              "\n",
              "    .dataframe thead th {\n",
              "        text-align: right;\n",
              "    }\n",
              "</style>\n",
              "<table border=\"1\" class=\"dataframe\">\n",
              "  <thead>\n",
              "    <tr style=\"text-align: right;\">\n",
              "      <th></th>\n",
              "      <th>customer_id</th>\n",
              "      <th>order_id</th>\n",
              "      <th>returned_item_quantity</th>\n",
              "    </tr>\n",
              "  </thead>\n",
              "  <tbody>\n",
              "    <tr>\n",
              "      <th>0</th>\n",
              "      <td>1000661</td>\n",
              "      <td>99119989117212</td>\n",
              "      <td>0</td>\n",
              "    </tr>\n",
              "    <tr>\n",
              "      <th>1</th>\n",
              "      <td>1001914</td>\n",
              "      <td>79758569034715</td>\n",
              "      <td>0</td>\n",
              "    </tr>\n",
              "    <tr>\n",
              "      <th>2</th>\n",
              "      <td>1002167</td>\n",
              "      <td>38156088848638</td>\n",
              "      <td>0</td>\n",
              "    </tr>\n",
              "    <tr>\n",
              "      <th>3</th>\n",
              "      <td>1002167</td>\n",
              "      <td>57440147820257</td>\n",
              "      <td>0</td>\n",
              "    </tr>\n",
              "    <tr>\n",
              "      <th>4</th>\n",
              "      <td>1002167</td>\n",
              "      <td>58825523953710</td>\n",
              "      <td>0</td>\n",
              "    </tr>\n",
              "  </tbody>\n",
              "</table>\n",
              "</div>"
            ],
            "text/plain": [
              "   customer_id        order_id  returned_item_quantity\n",
              "0      1000661  99119989117212                       0\n",
              "1      1001914  79758569034715                       0\n",
              "2      1002167  38156088848638                       0\n",
              "3      1002167  57440147820257                       0\n",
              "4      1002167  58825523953710                       0"
            ]
          },
          "metadata": {},
          "execution_count": 21
        }
      ]
    },
    {
      "cell_type": "code",
      "metadata": {
        "colab": {
          "base_uri": "https://localhost:8080/",
          "height": 205
        },
        "id": "TmsRIZsfRVbK",
        "outputId": "445cd2ff-4b75-489b-8374-3699bcea3ec7"
      },
      "source": [
        "# merging ordered and returned quantites' datasets\n",
        "df_order_return = pd.merge(df_ordered, df_returned)\n",
        "df_order_return.head()"
      ],
      "execution_count": null,
      "outputs": [
        {
          "output_type": "execute_result",
          "data": {
            "text/html": [
              "<div>\n",
              "<style scoped>\n",
              "    .dataframe tbody tr th:only-of-type {\n",
              "        vertical-align: middle;\n",
              "    }\n",
              "\n",
              "    .dataframe tbody tr th {\n",
              "        vertical-align: top;\n",
              "    }\n",
              "\n",
              "    .dataframe thead th {\n",
              "        text-align: right;\n",
              "    }\n",
              "</style>\n",
              "<table border=\"1\" class=\"dataframe\">\n",
              "  <thead>\n",
              "    <tr style=\"text-align: right;\">\n",
              "      <th></th>\n",
              "      <th>customer_id</th>\n",
              "      <th>order_id</th>\n",
              "      <th>ordered_item_quantity</th>\n",
              "      <th>returned_item_quantity</th>\n",
              "    </tr>\n",
              "  </thead>\n",
              "  <tbody>\n",
              "    <tr>\n",
              "      <th>0</th>\n",
              "      <td>1000661</td>\n",
              "      <td>99119989117212</td>\n",
              "      <td>3</td>\n",
              "      <td>0</td>\n",
              "    </tr>\n",
              "    <tr>\n",
              "      <th>1</th>\n",
              "      <td>1001914</td>\n",
              "      <td>79758569034715</td>\n",
              "      <td>1</td>\n",
              "      <td>0</td>\n",
              "    </tr>\n",
              "    <tr>\n",
              "      <th>2</th>\n",
              "      <td>1002167</td>\n",
              "      <td>38156088848638</td>\n",
              "      <td>1</td>\n",
              "      <td>0</td>\n",
              "    </tr>\n",
              "    <tr>\n",
              "      <th>3</th>\n",
              "      <td>1002167</td>\n",
              "      <td>57440147820257</td>\n",
              "      <td>1</td>\n",
              "      <td>0</td>\n",
              "    </tr>\n",
              "    <tr>\n",
              "      <th>4</th>\n",
              "      <td>1002167</td>\n",
              "      <td>58825523953710</td>\n",
              "      <td>1</td>\n",
              "      <td>0</td>\n",
              "    </tr>\n",
              "  </tbody>\n",
              "</table>\n",
              "</div>"
            ],
            "text/plain": [
              "   customer_id        order_id  ordered_item_quantity  returned_item_quantity\n",
              "0      1000661  99119989117212                      3                       0\n",
              "1      1001914  79758569034715                      1                       0\n",
              "2      1002167  38156088848638                      1                       0\n",
              "3      1002167  57440147820257                      1                       0\n",
              "4      1002167  58825523953710                      1                       0"
            ]
          },
          "metadata": {},
          "execution_count": 22
        }
      ]
    },
    {
      "cell_type": "code",
      "metadata": {
        "colab": {
          "base_uri": "https://localhost:8080/"
        },
        "id": "lOTpeuiiuFZN",
        "outputId": "251c87e3-56a4-45c0-fa86-00bb946b29c3"
      },
      "source": [
        "df_order_return.shape"
      ],
      "execution_count": null,
      "outputs": [
        {
          "output_type": "execute_result",
          "data": {
            "text/plain": [
              "(42136, 4)"
            ]
          },
          "metadata": {},
          "execution_count": 23
        }
      ]
    },
    {
      "cell_type": "code",
      "metadata": {
        "colab": {
          "base_uri": "https://localhost:8080/"
        },
        "id": "Jn8Jp90SRnI-",
        "outputId": "a2fa242e-990a-457e-90b3-0e6526780bb7"
      },
      "source": [
        "# calculating return rate \n",
        "df_order_return['avg_return_rate'] = (-1*df_order_return['returned_item_quantity']/df_order_return['ordered_item_quantity'])\n",
        "df_order_return.head()\n",
        "df_order_return.shape"
      ],
      "execution_count": null,
      "outputs": [
        {
          "output_type": "execute_result",
          "data": {
            "text/plain": [
              "(42136, 5)"
            ]
          },
          "metadata": {},
          "execution_count": 24
        }
      ]
    },
    {
      "cell_type": "code",
      "metadata": {
        "colab": {
          "base_uri": "https://localhost:8080/",
          "height": 422
        },
        "id": "8OmlYRcAVGmj",
        "outputId": "e594cc64-8e96-4f01-f87d-94f756cd2788"
      },
      "source": [
        "# grouping return rate for each customer\n",
        "customer_return_rate = (df_order_return.groupby(\"customer_id\").avg_return_rate.mean().reset_index())\n",
        "customer_return_rate"
      ],
      "execution_count": null,
      "outputs": [
        {
          "output_type": "execute_result",
          "data": {
            "text/html": [
              "<div>\n",
              "<style scoped>\n",
              "    .dataframe tbody tr th:only-of-type {\n",
              "        vertical-align: middle;\n",
              "    }\n",
              "\n",
              "    .dataframe tbody tr th {\n",
              "        vertical-align: top;\n",
              "    }\n",
              "\n",
              "    .dataframe thead th {\n",
              "        text-align: right;\n",
              "    }\n",
              "</style>\n",
              "<table border=\"1\" class=\"dataframe\">\n",
              "  <thead>\n",
              "    <tr style=\"text-align: right;\">\n",
              "      <th></th>\n",
              "      <th>customer_id</th>\n",
              "      <th>avg_return_rate</th>\n",
              "    </tr>\n",
              "  </thead>\n",
              "  <tbody>\n",
              "    <tr>\n",
              "      <th>0</th>\n",
              "      <td>1000661</td>\n",
              "      <td>0.0</td>\n",
              "    </tr>\n",
              "    <tr>\n",
              "      <th>1</th>\n",
              "      <td>1001914</td>\n",
              "      <td>0.0</td>\n",
              "    </tr>\n",
              "    <tr>\n",
              "      <th>2</th>\n",
              "      <td>1002167</td>\n",
              "      <td>0.0</td>\n",
              "    </tr>\n",
              "    <tr>\n",
              "      <th>3</th>\n",
              "      <td>1002387</td>\n",
              "      <td>0.0</td>\n",
              "    </tr>\n",
              "    <tr>\n",
              "      <th>4</th>\n",
              "      <td>1002419</td>\n",
              "      <td>0.0</td>\n",
              "    </tr>\n",
              "    <tr>\n",
              "      <th>...</th>\n",
              "      <td>...</td>\n",
              "      <td>...</td>\n",
              "    </tr>\n",
              "    <tr>\n",
              "      <th>24869</th>\n",
              "      <td>97805007741979</td>\n",
              "      <td>0.0</td>\n",
              "    </tr>\n",
              "    <tr>\n",
              "      <th>24870</th>\n",
              "      <td>98854671633650</td>\n",
              "      <td>0.0</td>\n",
              "    </tr>\n",
              "    <tr>\n",
              "      <th>24871</th>\n",
              "      <td>98974226154136</td>\n",
              "      <td>0.0</td>\n",
              "    </tr>\n",
              "    <tr>\n",
              "      <th>24872</th>\n",
              "      <td>99262726332691</td>\n",
              "      <td>0.0</td>\n",
              "    </tr>\n",
              "    <tr>\n",
              "      <th>24873</th>\n",
              "      <td>99549917598660</td>\n",
              "      <td>0.0</td>\n",
              "    </tr>\n",
              "  </tbody>\n",
              "</table>\n",
              "<p>24874 rows × 2 columns</p>\n",
              "</div>"
            ],
            "text/plain": [
              "          customer_id  avg_return_rate\n",
              "0             1000661              0.0\n",
              "1             1001914              0.0\n",
              "2             1002167              0.0\n",
              "3             1002387              0.0\n",
              "4             1002419              0.0\n",
              "...               ...              ...\n",
              "24869  97805007741979              0.0\n",
              "24870  98854671633650              0.0\n",
              "24871  98974226154136              0.0\n",
              "24872  99262726332691              0.0\n",
              "24873  99549917598660              0.0\n",
              "\n",
              "[24874 rows x 2 columns]"
            ]
          },
          "metadata": {},
          "execution_count": 25
        }
      ]
    },
    {
      "cell_type": "code",
      "metadata": {
        "colab": {
          "base_uri": "https://localhost:8080/",
          "height": 205
        },
        "id": "3tHsdLoNX0p_",
        "outputId": "1bdecadd-ee78-4442-f1d4-653a8d5316df"
      },
      "source": [
        "# making a new dataframe for recording return rate\n",
        "return_rates = pd.DataFrame(customer_return_rate[\"avg_return_rate\"].value_counts().reset_index())\n",
        "return_rates.head()"
      ],
      "execution_count": null,
      "outputs": [
        {
          "output_type": "execute_result",
          "data": {
            "text/html": [
              "<div>\n",
              "<style scoped>\n",
              "    .dataframe tbody tr th:only-of-type {\n",
              "        vertical-align: middle;\n",
              "    }\n",
              "\n",
              "    .dataframe tbody tr th {\n",
              "        vertical-align: top;\n",
              "    }\n",
              "\n",
              "    .dataframe thead th {\n",
              "        text-align: right;\n",
              "    }\n",
              "</style>\n",
              "<table border=\"1\" class=\"dataframe\">\n",
              "  <thead>\n",
              "    <tr style=\"text-align: right;\">\n",
              "      <th></th>\n",
              "      <th>index</th>\n",
              "      <th>avg_return_rate</th>\n",
              "    </tr>\n",
              "  </thead>\n",
              "  <tbody>\n",
              "    <tr>\n",
              "      <th>0</th>\n",
              "      <td>0.000000</td>\n",
              "      <td>24823</td>\n",
              "    </tr>\n",
              "    <tr>\n",
              "      <th>1</th>\n",
              "      <td>0.333333</td>\n",
              "      <td>13</td>\n",
              "    </tr>\n",
              "    <tr>\n",
              "      <th>2</th>\n",
              "      <td>1.000000</td>\n",
              "      <td>13</td>\n",
              "    </tr>\n",
              "    <tr>\n",
              "      <th>3</th>\n",
              "      <td>0.500000</td>\n",
              "      <td>9</td>\n",
              "    </tr>\n",
              "    <tr>\n",
              "      <th>4</th>\n",
              "      <td>0.250000</td>\n",
              "      <td>5</td>\n",
              "    </tr>\n",
              "  </tbody>\n",
              "</table>\n",
              "</div>"
            ],
            "text/plain": [
              "      index  avg_return_rate\n",
              "0  0.000000            24823\n",
              "1  0.333333               13\n",
              "2  1.000000               13\n",
              "3  0.500000                9\n",
              "4  0.250000                5"
            ]
          },
          "metadata": {},
          "execution_count": 26
        }
      ]
    },
    {
      "cell_type": "code",
      "metadata": {
        "colab": {
          "base_uri": "https://localhost:8080/"
        },
        "id": "oI99LBraulAP",
        "outputId": "107a8bf7-3d66-49c0-cd50-5c84dbd18275"
      },
      "source": [
        "return_rates.shape"
      ],
      "execution_count": null,
      "outputs": [
        {
          "output_type": "execute_result",
          "data": {
            "text/plain": [
              "(13, 2)"
            ]
          },
          "metadata": {},
          "execution_count": 27
        }
      ]
    },
    {
      "cell_type": "code",
      "metadata": {
        "colab": {
          "base_uri": "https://localhost:8080/",
          "height": 455
        },
        "id": "8DOFzSrBYKNo",
        "outputId": "0fc3f6bd-7088-4a92-fc33-5183c7cf445e"
      },
      "source": [
        "return_rates.rename(columns=\n",
        "                    {\"index\": \"average return rate\",\n",
        "                     \"avg_return_rate\": \"count of unit return rate\"},\n",
        "                    inplace=True)\n",
        "return_rates"
      ],
      "execution_count": null,
      "outputs": [
        {
          "output_type": "execute_result",
          "data": {
            "text/html": [
              "<div>\n",
              "<style scoped>\n",
              "    .dataframe tbody tr th:only-of-type {\n",
              "        vertical-align: middle;\n",
              "    }\n",
              "\n",
              "    .dataframe tbody tr th {\n",
              "        vertical-align: top;\n",
              "    }\n",
              "\n",
              "    .dataframe thead th {\n",
              "        text-align: right;\n",
              "    }\n",
              "</style>\n",
              "<table border=\"1\" class=\"dataframe\">\n",
              "  <thead>\n",
              "    <tr style=\"text-align: right;\">\n",
              "      <th></th>\n",
              "      <th>average return rate</th>\n",
              "      <th>count of unit return rate</th>\n",
              "    </tr>\n",
              "  </thead>\n",
              "  <tbody>\n",
              "    <tr>\n",
              "      <th>0</th>\n",
              "      <td>0.000000</td>\n",
              "      <td>24823</td>\n",
              "    </tr>\n",
              "    <tr>\n",
              "      <th>1</th>\n",
              "      <td>0.333333</td>\n",
              "      <td>13</td>\n",
              "    </tr>\n",
              "    <tr>\n",
              "      <th>2</th>\n",
              "      <td>1.000000</td>\n",
              "      <td>13</td>\n",
              "    </tr>\n",
              "    <tr>\n",
              "      <th>3</th>\n",
              "      <td>0.500000</td>\n",
              "      <td>9</td>\n",
              "    </tr>\n",
              "    <tr>\n",
              "      <th>4</th>\n",
              "      <td>0.250000</td>\n",
              "      <td>5</td>\n",
              "    </tr>\n",
              "    <tr>\n",
              "      <th>5</th>\n",
              "      <td>0.166667</td>\n",
              "      <td>2</td>\n",
              "    </tr>\n",
              "    <tr>\n",
              "      <th>6</th>\n",
              "      <td>0.200000</td>\n",
              "      <td>2</td>\n",
              "    </tr>\n",
              "    <tr>\n",
              "      <th>7</th>\n",
              "      <td>0.666667</td>\n",
              "      <td>2</td>\n",
              "    </tr>\n",
              "    <tr>\n",
              "      <th>8</th>\n",
              "      <td>0.083333</td>\n",
              "      <td>1</td>\n",
              "    </tr>\n",
              "    <tr>\n",
              "      <th>9</th>\n",
              "      <td>0.013889</td>\n",
              "      <td>1</td>\n",
              "    </tr>\n",
              "    <tr>\n",
              "      <th>10</th>\n",
              "      <td>0.066667</td>\n",
              "      <td>1</td>\n",
              "    </tr>\n",
              "    <tr>\n",
              "      <th>11</th>\n",
              "      <td>0.400000</td>\n",
              "      <td>1</td>\n",
              "    </tr>\n",
              "    <tr>\n",
              "      <th>12</th>\n",
              "      <td>0.125000</td>\n",
              "      <td>1</td>\n",
              "    </tr>\n",
              "  </tbody>\n",
              "</table>\n",
              "</div>"
            ],
            "text/plain": [
              "    average return rate  count of unit return rate\n",
              "0              0.000000                      24823\n",
              "1              0.333333                         13\n",
              "2              1.000000                         13\n",
              "3              0.500000                          9\n",
              "4              0.250000                          5\n",
              "5              0.166667                          2\n",
              "6              0.200000                          2\n",
              "7              0.666667                          2\n",
              "8              0.083333                          1\n",
              "9              0.013889                          1\n",
              "10             0.066667                          1\n",
              "11             0.400000                          1\n",
              "12             0.125000                          1"
            ]
          },
          "metadata": {},
          "execution_count": 28
        }
      ]
    },
    {
      "cell_type": "code",
      "metadata": {
        "colab": {
          "base_uri": "https://localhost:8080/",
          "height": 455
        },
        "id": "MD9sjjadujSI",
        "outputId": "0c846705-d524-4578-9868-7b41dc5be55f"
      },
      "source": [
        "return_rates.sort_values(by=\"average return rate\")"
      ],
      "execution_count": null,
      "outputs": [
        {
          "output_type": "execute_result",
          "data": {
            "text/html": [
              "<div>\n",
              "<style scoped>\n",
              "    .dataframe tbody tr th:only-of-type {\n",
              "        vertical-align: middle;\n",
              "    }\n",
              "\n",
              "    .dataframe tbody tr th {\n",
              "        vertical-align: top;\n",
              "    }\n",
              "\n",
              "    .dataframe thead th {\n",
              "        text-align: right;\n",
              "    }\n",
              "</style>\n",
              "<table border=\"1\" class=\"dataframe\">\n",
              "  <thead>\n",
              "    <tr style=\"text-align: right;\">\n",
              "      <th></th>\n",
              "      <th>average return rate</th>\n",
              "      <th>count of unit return rate</th>\n",
              "    </tr>\n",
              "  </thead>\n",
              "  <tbody>\n",
              "    <tr>\n",
              "      <th>0</th>\n",
              "      <td>0.000000</td>\n",
              "      <td>24823</td>\n",
              "    </tr>\n",
              "    <tr>\n",
              "      <th>9</th>\n",
              "      <td>0.013889</td>\n",
              "      <td>1</td>\n",
              "    </tr>\n",
              "    <tr>\n",
              "      <th>10</th>\n",
              "      <td>0.066667</td>\n",
              "      <td>1</td>\n",
              "    </tr>\n",
              "    <tr>\n",
              "      <th>8</th>\n",
              "      <td>0.083333</td>\n",
              "      <td>1</td>\n",
              "    </tr>\n",
              "    <tr>\n",
              "      <th>12</th>\n",
              "      <td>0.125000</td>\n",
              "      <td>1</td>\n",
              "    </tr>\n",
              "    <tr>\n",
              "      <th>5</th>\n",
              "      <td>0.166667</td>\n",
              "      <td>2</td>\n",
              "    </tr>\n",
              "    <tr>\n",
              "      <th>6</th>\n",
              "      <td>0.200000</td>\n",
              "      <td>2</td>\n",
              "    </tr>\n",
              "    <tr>\n",
              "      <th>4</th>\n",
              "      <td>0.250000</td>\n",
              "      <td>5</td>\n",
              "    </tr>\n",
              "    <tr>\n",
              "      <th>1</th>\n",
              "      <td>0.333333</td>\n",
              "      <td>13</td>\n",
              "    </tr>\n",
              "    <tr>\n",
              "      <th>11</th>\n",
              "      <td>0.400000</td>\n",
              "      <td>1</td>\n",
              "    </tr>\n",
              "    <tr>\n",
              "      <th>3</th>\n",
              "      <td>0.500000</td>\n",
              "      <td>9</td>\n",
              "    </tr>\n",
              "    <tr>\n",
              "      <th>7</th>\n",
              "      <td>0.666667</td>\n",
              "      <td>2</td>\n",
              "    </tr>\n",
              "    <tr>\n",
              "      <th>2</th>\n",
              "      <td>1.000000</td>\n",
              "      <td>13</td>\n",
              "    </tr>\n",
              "  </tbody>\n",
              "</table>\n",
              "</div>"
            ],
            "text/plain": [
              "    average return rate  count of unit return rate\n",
              "0              0.000000                      24823\n",
              "9              0.013889                          1\n",
              "10             0.066667                          1\n",
              "8              0.083333                          1\n",
              "12             0.125000                          1\n",
              "5              0.166667                          2\n",
              "6              0.200000                          2\n",
              "4              0.250000                          5\n",
              "1              0.333333                         13\n",
              "11             0.400000                          1\n",
              "3              0.500000                          9\n",
              "7              0.666667                          2\n",
              "2              1.000000                         13"
            ]
          },
          "metadata": {},
          "execution_count": 29
        }
      ]
    },
    {
      "cell_type": "code",
      "metadata": {
        "id": "gAMwXW5NYh2s"
      },
      "source": [
        "# adding avg return rate column to main dataframe\n",
        "df_customers = pd.merge(customers, customer_return_rate, on='customer_id')"
      ],
      "execution_count": null,
      "outputs": []
    },
    {
      "cell_type": "code",
      "metadata": {
        "colab": {
          "base_uri": "https://localhost:8080/"
        },
        "id": "v6skFH8OsqWe",
        "outputId": "b1654af7-58fd-4258-85d3-f315b2295b17"
      },
      "source": [
        "df_customers.shape"
      ],
      "execution_count": null,
      "outputs": [
        {
          "output_type": "execute_result",
          "data": {
            "text/plain": [
              "(24874, 3)"
            ]
          },
          "metadata": {},
          "execution_count": 31
        }
      ]
    },
    {
      "cell_type": "code",
      "metadata": {
        "colab": {
          "base_uri": "https://localhost:8080/",
          "height": 205
        },
        "id": "-3hAyiYuZL7j",
        "outputId": "a0c4ea4e-abf3-47da-cca8-4e3b1e8d4c6a"
      },
      "source": [
        "df_customers.head()"
      ],
      "execution_count": null,
      "outputs": [
        {
          "output_type": "execute_result",
          "data": {
            "text/html": [
              "<div>\n",
              "<style scoped>\n",
              "    .dataframe tbody tr th:only-of-type {\n",
              "        vertical-align: middle;\n",
              "    }\n",
              "\n",
              "    .dataframe tbody tr th {\n",
              "        vertical-align: top;\n",
              "    }\n",
              "\n",
              "    .dataframe thead th {\n",
              "        text-align: right;\n",
              "    }\n",
              "</style>\n",
              "<table border=\"1\" class=\"dataframe\">\n",
              "  <thead>\n",
              "    <tr style=\"text-align: right;\">\n",
              "      <th></th>\n",
              "      <th>customer_id</th>\n",
              "      <th>products_order</th>\n",
              "      <th>avg_return_rate</th>\n",
              "    </tr>\n",
              "  </thead>\n",
              "  <tbody>\n",
              "    <tr>\n",
              "      <th>0</th>\n",
              "      <td>1000661</td>\n",
              "      <td>1</td>\n",
              "      <td>0.0</td>\n",
              "    </tr>\n",
              "    <tr>\n",
              "      <th>1</th>\n",
              "      <td>1001914</td>\n",
              "      <td>1</td>\n",
              "      <td>0.0</td>\n",
              "    </tr>\n",
              "    <tr>\n",
              "      <th>2</th>\n",
              "      <td>1002167</td>\n",
              "      <td>3</td>\n",
              "      <td>0.0</td>\n",
              "    </tr>\n",
              "    <tr>\n",
              "      <th>3</th>\n",
              "      <td>1002387</td>\n",
              "      <td>1</td>\n",
              "      <td>0.0</td>\n",
              "    </tr>\n",
              "    <tr>\n",
              "      <th>4</th>\n",
              "      <td>1002419</td>\n",
              "      <td>2</td>\n",
              "      <td>0.0</td>\n",
              "    </tr>\n",
              "  </tbody>\n",
              "</table>\n",
              "</div>"
            ],
            "text/plain": [
              "   customer_id  products_order  avg_return_rate\n",
              "0      1000661               1              0.0\n",
              "1      1001914               1              0.0\n",
              "2      1002167               3              0.0\n",
              "3      1002387               1              0.0\n",
              "4      1002419               2              0.0"
            ]
          },
          "metadata": {},
          "execution_count": 32
        }
      ]
    },
    {
      "cell_type": "markdown",
      "metadata": {
        "id": "ZLNSW8VwZW6h"
      },
      "source": [
        "***Calculating how much one customer is spending in total on all orders***"
      ]
    },
    {
      "cell_type": "code",
      "metadata": {
        "colab": {
          "base_uri": "https://localhost:8080/",
          "height": 205
        },
        "id": "JGjhQyoTZNAz",
        "outputId": "8278c910-8bee-4278-f780-f8080c6ef828"
      },
      "source": [
        "# adding total sales of each order after grouping by customer id\n",
        "df_spend = (df.groupby('customer_id').total_sales.sum().reset_index())\n",
        "df_spend.head()"
      ],
      "execution_count": null,
      "outputs": [
        {
          "output_type": "execute_result",
          "data": {
            "text/html": [
              "<div>\n",
              "<style scoped>\n",
              "    .dataframe tbody tr th:only-of-type {\n",
              "        vertical-align: middle;\n",
              "    }\n",
              "\n",
              "    .dataframe tbody tr th {\n",
              "        vertical-align: top;\n",
              "    }\n",
              "\n",
              "    .dataframe thead th {\n",
              "        text-align: right;\n",
              "    }\n",
              "</style>\n",
              "<table border=\"1\" class=\"dataframe\">\n",
              "  <thead>\n",
              "    <tr style=\"text-align: right;\">\n",
              "      <th></th>\n",
              "      <th>customer_id</th>\n",
              "      <th>total_sales</th>\n",
              "    </tr>\n",
              "  </thead>\n",
              "  <tbody>\n",
              "    <tr>\n",
              "      <th>0</th>\n",
              "      <td>1000661</td>\n",
              "      <td>260.0</td>\n",
              "    </tr>\n",
              "    <tr>\n",
              "      <th>1</th>\n",
              "      <td>1001914</td>\n",
              "      <td>79.2</td>\n",
              "    </tr>\n",
              "    <tr>\n",
              "      <th>2</th>\n",
              "      <td>1002167</td>\n",
              "      <td>234.2</td>\n",
              "    </tr>\n",
              "    <tr>\n",
              "      <th>3</th>\n",
              "      <td>1002387</td>\n",
              "      <td>89.0</td>\n",
              "    </tr>\n",
              "    <tr>\n",
              "      <th>4</th>\n",
              "      <td>1002419</td>\n",
              "      <td>103.0</td>\n",
              "    </tr>\n",
              "  </tbody>\n",
              "</table>\n",
              "</div>"
            ],
            "text/plain": [
              "   customer_id  total_sales\n",
              "0      1000661        260.0\n",
              "1      1001914         79.2\n",
              "2      1002167        234.2\n",
              "3      1002387         89.0\n",
              "4      1002419        103.0"
            ]
          },
          "metadata": {},
          "execution_count": 33
        }
      ]
    },
    {
      "cell_type": "markdown",
      "metadata": {
        "id": "lDTUd79Hh4-a"
      },
      "source": [
        "Now we have three main features ready:\n",
        "1. Order quantity\n",
        "2. Average Return rate\n",
        "3. Total expenditure \n",
        "\n",
        "All these features are for all unique customers in the data base. \n",
        "\n",
        "Thus we can now make the final database that will be used for the KMeans Clustering. "
      ]
    },
    {
      "cell_type": "code",
      "metadata": {
        "colab": {
          "base_uri": "https://localhost:8080/",
          "height": 205
        },
        "id": "7KLjr_71hhyc",
        "outputId": "ef414ed8-e75e-4325-f315-5c1420cb5c46"
      },
      "source": [
        "customers_final = df_order_return.merge(df_spend, on='customer_id')\n",
        "customers_final.head()"
      ],
      "execution_count": null,
      "outputs": [
        {
          "output_type": "execute_result",
          "data": {
            "text/html": [
              "<div>\n",
              "<style scoped>\n",
              "    .dataframe tbody tr th:only-of-type {\n",
              "        vertical-align: middle;\n",
              "    }\n",
              "\n",
              "    .dataframe tbody tr th {\n",
              "        vertical-align: top;\n",
              "    }\n",
              "\n",
              "    .dataframe thead th {\n",
              "        text-align: right;\n",
              "    }\n",
              "</style>\n",
              "<table border=\"1\" class=\"dataframe\">\n",
              "  <thead>\n",
              "    <tr style=\"text-align: right;\">\n",
              "      <th></th>\n",
              "      <th>customer_id</th>\n",
              "      <th>order_id</th>\n",
              "      <th>ordered_item_quantity</th>\n",
              "      <th>returned_item_quantity</th>\n",
              "      <th>avg_return_rate</th>\n",
              "      <th>total_sales</th>\n",
              "    </tr>\n",
              "  </thead>\n",
              "  <tbody>\n",
              "    <tr>\n",
              "      <th>0</th>\n",
              "      <td>1000661</td>\n",
              "      <td>99119989117212</td>\n",
              "      <td>3</td>\n",
              "      <td>0</td>\n",
              "      <td>0.0</td>\n",
              "      <td>260.0</td>\n",
              "    </tr>\n",
              "    <tr>\n",
              "      <th>1</th>\n",
              "      <td>1001914</td>\n",
              "      <td>79758569034715</td>\n",
              "      <td>1</td>\n",
              "      <td>0</td>\n",
              "      <td>0.0</td>\n",
              "      <td>79.2</td>\n",
              "    </tr>\n",
              "    <tr>\n",
              "      <th>2</th>\n",
              "      <td>1002167</td>\n",
              "      <td>38156088848638</td>\n",
              "      <td>1</td>\n",
              "      <td>0</td>\n",
              "      <td>0.0</td>\n",
              "      <td>234.2</td>\n",
              "    </tr>\n",
              "    <tr>\n",
              "      <th>3</th>\n",
              "      <td>1002167</td>\n",
              "      <td>57440147820257</td>\n",
              "      <td>1</td>\n",
              "      <td>0</td>\n",
              "      <td>0.0</td>\n",
              "      <td>234.2</td>\n",
              "    </tr>\n",
              "    <tr>\n",
              "      <th>4</th>\n",
              "      <td>1002167</td>\n",
              "      <td>58825523953710</td>\n",
              "      <td>1</td>\n",
              "      <td>0</td>\n",
              "      <td>0.0</td>\n",
              "      <td>234.2</td>\n",
              "    </tr>\n",
              "  </tbody>\n",
              "</table>\n",
              "</div>"
            ],
            "text/plain": [
              "   customer_id        order_id  ...  avg_return_rate  total_sales\n",
              "0      1000661  99119989117212  ...              0.0        260.0\n",
              "1      1001914  79758569034715  ...              0.0         79.2\n",
              "2      1002167  38156088848638  ...              0.0        234.2\n",
              "3      1002167  57440147820257  ...              0.0        234.2\n",
              "4      1002167  58825523953710  ...              0.0        234.2\n",
              "\n",
              "[5 rows x 6 columns]"
            ]
          },
          "metadata": {},
          "execution_count": 34
        }
      ]
    },
    {
      "cell_type": "markdown",
      "metadata": {
        "id": "n1OWc1wXjVpL"
      },
      "source": [
        "Here, we dont need the following columns:\n",
        "1. customer ID\n",
        "2. Order ID\n",
        "3. Returned item quantity\n",
        "\n",
        "Thus we can drop these columns. "
      ]
    },
    {
      "cell_type": "code",
      "metadata": {
        "id": "ZSuj8y8-n2kR"
      },
      "source": [
        "customers_final.drop(columns=['customer_id','order_id','returned_item_quantity'], inplace=True)"
      ],
      "execution_count": null,
      "outputs": []
    },
    {
      "cell_type": "code",
      "metadata": {
        "colab": {
          "base_uri": "https://localhost:8080/"
        },
        "id": "_HNS-7-Wj0XB",
        "outputId": "e73b23f3-b00d-4de5-a0bf-93d4fac9fcfe"
      },
      "source": [
        "#customers_final.head()\n",
        "customers_final.shape"
      ],
      "execution_count": null,
      "outputs": [
        {
          "output_type": "execute_result",
          "data": {
            "text/plain": [
              "(42136, 3)"
            ]
          },
          "metadata": {},
          "execution_count": 36
        }
      ]
    },
    {
      "cell_type": "markdown",
      "metadata": {
        "id": "Cj0XWCCrkCfX"
      },
      "source": [
        "### Normalization\n",
        "***Normalizing and scaling the values in all columns.***\n",
        "\n",
        "For this, the log1p funtion from numpy is used. this function returns the log(1+x) value. "
      ]
    },
    {
      "cell_type": "code",
      "metadata": {
        "colab": {
          "base_uri": "https://localhost:8080/",
          "height": 205
        },
        "id": "bt8PkvYLj5WN",
        "outputId": "52003d9b-c89b-4d3a-d0b2-c810bb1c8bd7"
      },
      "source": [
        "customers_final['scaled_products_ordered'] = np.log1p(customers_final['ordered_item_quantity'])\n",
        "customers_final['scaled_return_rate'] = np.log1p(customers_final['avg_return_rate'])\n",
        "customers_final['scaled_spending'] = np.log1p(customers_final['total_sales'])\n",
        "customers_final.head()\n"
      ],
      "execution_count": null,
      "outputs": [
        {
          "output_type": "execute_result",
          "data": {
            "text/html": [
              "<div>\n",
              "<style scoped>\n",
              "    .dataframe tbody tr th:only-of-type {\n",
              "        vertical-align: middle;\n",
              "    }\n",
              "\n",
              "    .dataframe tbody tr th {\n",
              "        vertical-align: top;\n",
              "    }\n",
              "\n",
              "    .dataframe thead th {\n",
              "        text-align: right;\n",
              "    }\n",
              "</style>\n",
              "<table border=\"1\" class=\"dataframe\">\n",
              "  <thead>\n",
              "    <tr style=\"text-align: right;\">\n",
              "      <th></th>\n",
              "      <th>ordered_item_quantity</th>\n",
              "      <th>avg_return_rate</th>\n",
              "      <th>total_sales</th>\n",
              "      <th>scaled_products_ordered</th>\n",
              "      <th>scaled_return_rate</th>\n",
              "      <th>scaled_spending</th>\n",
              "    </tr>\n",
              "  </thead>\n",
              "  <tbody>\n",
              "    <tr>\n",
              "      <th>0</th>\n",
              "      <td>3</td>\n",
              "      <td>0.0</td>\n",
              "      <td>260.0</td>\n",
              "      <td>1.386294</td>\n",
              "      <td>0.0</td>\n",
              "      <td>5.564520</td>\n",
              "    </tr>\n",
              "    <tr>\n",
              "      <th>1</th>\n",
              "      <td>1</td>\n",
              "      <td>0.0</td>\n",
              "      <td>79.2</td>\n",
              "      <td>0.693147</td>\n",
              "      <td>0.0</td>\n",
              "      <td>4.384524</td>\n",
              "    </tr>\n",
              "    <tr>\n",
              "      <th>2</th>\n",
              "      <td>1</td>\n",
              "      <td>0.0</td>\n",
              "      <td>234.2</td>\n",
              "      <td>0.693147</td>\n",
              "      <td>0.0</td>\n",
              "      <td>5.460436</td>\n",
              "    </tr>\n",
              "    <tr>\n",
              "      <th>3</th>\n",
              "      <td>1</td>\n",
              "      <td>0.0</td>\n",
              "      <td>234.2</td>\n",
              "      <td>0.693147</td>\n",
              "      <td>0.0</td>\n",
              "      <td>5.460436</td>\n",
              "    </tr>\n",
              "    <tr>\n",
              "      <th>4</th>\n",
              "      <td>1</td>\n",
              "      <td>0.0</td>\n",
              "      <td>234.2</td>\n",
              "      <td>0.693147</td>\n",
              "      <td>0.0</td>\n",
              "      <td>5.460436</td>\n",
              "    </tr>\n",
              "  </tbody>\n",
              "</table>\n",
              "</div>"
            ],
            "text/plain": [
              "   ordered_item_quantity  avg_return_rate  ...  scaled_return_rate  scaled_spending\n",
              "0                      3              0.0  ...                 0.0         5.564520\n",
              "1                      1              0.0  ...                 0.0         4.384524\n",
              "2                      1              0.0  ...                 0.0         5.460436\n",
              "3                      1              0.0  ...                 0.0         5.460436\n",
              "4                      1              0.0  ...                 0.0         5.460436\n",
              "\n",
              "[5 rows x 6 columns]"
            ]
          },
          "metadata": {},
          "execution_count": 37
        }
      ]
    },
    {
      "cell_type": "code",
      "metadata": {
        "id": "1DHMhIudo52j"
      },
      "source": [
        "# dropping unscaled columns\n",
        "\n",
        "customers_final.drop(columns=['ordered_item_quantity','avg_return_rate','total_sales'], inplace=True)"
      ],
      "execution_count": null,
      "outputs": []
    },
    {
      "cell_type": "code",
      "metadata": {
        "colab": {
          "base_uri": "https://localhost:8080/",
          "height": 205
        },
        "id": "Z3B1Gy6zpZzF",
        "outputId": "a0104dec-aaa8-4e2a-dd9f-0fc560919f0e"
      },
      "source": [
        "customers_final.head()"
      ],
      "execution_count": null,
      "outputs": [
        {
          "output_type": "execute_result",
          "data": {
            "text/html": [
              "<div>\n",
              "<style scoped>\n",
              "    .dataframe tbody tr th:only-of-type {\n",
              "        vertical-align: middle;\n",
              "    }\n",
              "\n",
              "    .dataframe tbody tr th {\n",
              "        vertical-align: top;\n",
              "    }\n",
              "\n",
              "    .dataframe thead th {\n",
              "        text-align: right;\n",
              "    }\n",
              "</style>\n",
              "<table border=\"1\" class=\"dataframe\">\n",
              "  <thead>\n",
              "    <tr style=\"text-align: right;\">\n",
              "      <th></th>\n",
              "      <th>scaled_products_ordered</th>\n",
              "      <th>scaled_return_rate</th>\n",
              "      <th>scaled_spending</th>\n",
              "    </tr>\n",
              "  </thead>\n",
              "  <tbody>\n",
              "    <tr>\n",
              "      <th>0</th>\n",
              "      <td>1.386294</td>\n",
              "      <td>0.0</td>\n",
              "      <td>5.564520</td>\n",
              "    </tr>\n",
              "    <tr>\n",
              "      <th>1</th>\n",
              "      <td>0.693147</td>\n",
              "      <td>0.0</td>\n",
              "      <td>4.384524</td>\n",
              "    </tr>\n",
              "    <tr>\n",
              "      <th>2</th>\n",
              "      <td>0.693147</td>\n",
              "      <td>0.0</td>\n",
              "      <td>5.460436</td>\n",
              "    </tr>\n",
              "    <tr>\n",
              "      <th>3</th>\n",
              "      <td>0.693147</td>\n",
              "      <td>0.0</td>\n",
              "      <td>5.460436</td>\n",
              "    </tr>\n",
              "    <tr>\n",
              "      <th>4</th>\n",
              "      <td>0.693147</td>\n",
              "      <td>0.0</td>\n",
              "      <td>5.460436</td>\n",
              "    </tr>\n",
              "  </tbody>\n",
              "</table>\n",
              "</div>"
            ],
            "text/plain": [
              "   scaled_products_ordered  scaled_return_rate  scaled_spending\n",
              "0                 1.386294                 0.0         5.564520\n",
              "1                 0.693147                 0.0         4.384524\n",
              "2                 0.693147                 0.0         5.460436\n",
              "3                 0.693147                 0.0         5.460436\n",
              "4                 0.693147                 0.0         5.460436"
            ]
          },
          "metadata": {},
          "execution_count": 39
        }
      ]
    },
    {
      "cell_type": "code",
      "metadata": {
        "colab": {
          "base_uri": "https://localhost:8080/"
        },
        "id": "90AQG6NcpiXH",
        "outputId": "93e9e6ac-b25a-45d6-8d65-9a7de26d153f"
      },
      "source": [
        "customers_final.shape"
      ],
      "execution_count": null,
      "outputs": [
        {
          "output_type": "execute_result",
          "data": {
            "text/plain": [
              "(42136, 3)"
            ]
          },
          "metadata": {},
          "execution_count": 40
        }
      ]
    },
    {
      "cell_type": "markdown",
      "metadata": {
        "id": "LJc_GPCxVQps"
      },
      "source": [
        "## KMeans Clustering\n",
        "\n",
        "Now that the dataframe is preprcoessed and ready, it can be applied to the model. \n",
        "\n"
      ]
    },
    {
      "cell_type": "code",
      "metadata": {
        "id": "Mm4bHoxTpt-x"
      },
      "source": [
        "# kmeans\n",
        "from sklearn.cluster import KMeans"
      ],
      "execution_count": null,
      "outputs": []
    },
    {
      "cell_type": "code",
      "metadata": {
        "colab": {
          "base_uri": "https://localhost:8080/"
        },
        "id": "frb-lLA_qIff",
        "outputId": "d11c87af-cd56-4f28-c536-0bb1c828662d"
      },
      "source": [
        "kmeans_model = KMeans(init='k-means++', max_iter=500, random_state=42)\n",
        "\n",
        "kmeans_model.fit(customers_final)"
      ],
      "execution_count": null,
      "outputs": [
        {
          "output_type": "execute_result",
          "data": {
            "text/plain": [
              "KMeans(algorithm='auto', copy_x=True, init='k-means++', max_iter=500,\n",
              "       n_clusters=8, n_init=10, n_jobs=None, precompute_distances='auto',\n",
              "       random_state=42, tol=0.0001, verbose=0)"
            ]
          },
          "metadata": {},
          "execution_count": 42
        }
      ]
    },
    {
      "cell_type": "code",
      "metadata": {
        "colab": {
          "base_uri": "https://localhost:8080/"
        },
        "id": "-RP5h22Uqfdt",
        "outputId": "2f248bec-6da5-4dbd-95e6-71edd1698cd7"
      },
      "source": [
        "print(\"within-cluster sum-of-squares (inertia) of the model is:\", kmeans_model.inertia_)"
      ],
      "execution_count": null,
      "outputs": [
        {
          "output_type": "stream",
          "name": "stdout",
          "text": [
            "within-cluster sum-of-squares (inertia) of the model is: 2760.596099060223\n"
          ]
        }
      ]
    },
    {
      "cell_type": "markdown",
      "metadata": {
        "id": "abKk43LN6bNI"
      },
      "source": [
        "### Selecting optimal K value\n",
        "***An elbow curve graph can be plotted for analysing the optimal k value.***"
      ]
    },
    {
      "cell_type": "code",
      "metadata": {
        "colab": {
          "base_uri": "https://localhost:8080/"
        },
        "id": "j-bWW0sb6nfl",
        "outputId": "c4eb4fec-63a5-4978-ba25-046c1b13cb46"
      },
      "source": [
        "def optimal_k(k_values,df):\n",
        "  dist = dict()\n",
        "  for k in k_values:\n",
        "    model = KMeans(n_clusters=k, init='k-means++', max_iter=500, random_state=42)\n",
        "    model.fit(df)\n",
        "    dist[k]=model.inertia_\n",
        "  return dist\n",
        "\n",
        "dist = optimal_k ([2,3,4,5,6,7,8,9,10,11,12,13,14,15],customers_final)\n",
        "dist"
      ],
      "execution_count": null,
      "outputs": [
        {
          "output_type": "execute_result",
          "data": {
            "text/plain": [
              "{2: 11880.839060468295,\n",
              " 3: 7164.880651876598,\n",
              " 4: 5497.546001240112,\n",
              " 5: 4519.651798452988,\n",
              " 6: 3860.9782795057017,\n",
              " 7: 3252.4585881166067,\n",
              " 8: 2760.596099060223,\n",
              " 9: 2340.580880225185,\n",
              " 10: 1988.0042934241826,\n",
              " 11: 1745.452593024219,\n",
              " 12: 1537.7176460796004,\n",
              " 13: 1401.1323905227434,\n",
              " 14: 1282.9472932510478,\n",
              " 15: 1167.1164053592752}"
            ]
          },
          "metadata": {},
          "execution_count": 44
        }
      ]
    },
    {
      "cell_type": "code",
      "metadata": {
        "colab": {
          "base_uri": "https://localhost:8080/",
          "height": 297
        },
        "id": "mIQc4GaZ71kI",
        "outputId": "394e70a4-2d8e-456e-eb7c-63a8a1171c32"
      },
      "source": [
        "plt.scatter(list(dist.keys()),list(dist.values()))\n",
        "plt.xlabel('K Value')\n",
        "plt.ylabel('Within cluster distance')"
      ],
      "execution_count": null,
      "outputs": [
        {
          "output_type": "execute_result",
          "data": {
            "text/plain": [
              "Text(0, 0.5, 'Within cluster distance')"
            ]
          },
          "metadata": {},
          "execution_count": 45
        },
        {
          "output_type": "display_data",
          "data": {
            "image/png": "[encoded data removed]",
            "text/plain": [
              "<Figure size 432x288 with 1 Axes>"
            ]
          },
          "metadata": {
            "needs_background": "light"
          }
        }
      ]
    },
    {
      "cell_type": "code",
      "metadata": {
        "id": "D_gpdGxnq5Ng"
      },
      "source": [
        "updated_kmeans_model = KMeans(n_clusters = 4, init='k-means++', max_iter=500, random_state=42)\n",
        "\n",
        "clusters = updated_kmeans_model.fit_predict(customers_final)"
      ],
      "execution_count": null,
      "outputs": []
    },
    {
      "cell_type": "code",
      "metadata": {
        "colab": {
          "base_uri": "https://localhost:8080/"
        },
        "id": "ME-DIF3oAXSQ",
        "outputId": "96c68de4-7401-4f14-b528-082167942485"
      },
      "source": [
        "len(clusters)"
      ],
      "execution_count": null,
      "outputs": [
        {
          "output_type": "execute_result",
          "data": {
            "text/plain": [
              "42136"
            ]
          },
          "metadata": {},
          "execution_count": 47
        }
      ]
    },
    {
      "cell_type": "code",
      "metadata": {
        "colab": {
          "base_uri": "https://localhost:8080/"
        },
        "id": "snHBQ3iKAtiS",
        "outputId": "4466c3d0-aa1d-4bec-b527-52eb9223708a"
      },
      "source": [
        "print(clusters[0:10])"
      ],
      "execution_count": null,
      "outputs": [
        {
          "output_type": "stream",
          "name": "stdout",
          "text": [
            "[1 3 0 0 0 3 3 1 3 0]\n"
          ]
        }
      ]
    },
    {
      "cell_type": "code",
      "metadata": {
        "colab": {
          "base_uri": "https://localhost:8080/"
        },
        "id": "PXuO7Zot5f34",
        "outputId": "a4f60c00-49b7-4512-924c-315e1ba4d1f4"
      },
      "source": [
        "print('Distance within clusters =', np.round(updated_kmeans_model.inertia_,2))"
      ],
      "execution_count": null,
      "outputs": [
        {
          "output_type": "stream",
          "name": "stdout",
          "text": [
            "Distance within clusters = 5497.55\n"
          ]
        }
      ]
    },
    {
      "cell_type": "markdown",
      "metadata": {
        "id": "pHlQJMupVnuc"
      },
      "source": [
        "### Visualization"
      ]
    },
    {
      "cell_type": "code",
      "metadata": {
        "colab": {
          "base_uri": "https://localhost:8080/",
          "height": 429
        },
        "id": "QgCCXmU1_2XH",
        "outputId": "8fbe8260-8f90-4fdf-da46-52575ab13f0a"
      },
      "source": [
        "from mpl_toolkits import mplot3d\n",
        "fig = plt.figure(figsize = (10, 7))\n",
        "ax = plt.axes(projection =\"3d\")\n",
        "ax.view_init(30,-270)\n",
        "ax.scatter3D(customers_final['scaled_products_ordered'], customers_final['scaled_return_rate'], customers_final['scaled_spending'],c=clusters)\n",
        "plt.title('Customer Segments')\n",
        "ax.set_xlabel('Products Ordered', fontweight ='bold')\n",
        "ax.set_ylabel('Return rate', fontweight ='bold')\n",
        "ax.set_zlabel('Total Spending', fontweight ='bold')\n"
      ],
      "execution_count": null,
      "outputs": [
        {
          "output_type": "execute_result",
          "data": {
            "text/plain": [
              "Text(0.5, 0, 'Total Spending')"
            ]
          },
          "metadata": {},
          "execution_count": 50
        },
        {
          "output_type": "display_data",
          "data": {
            "image/png": "[encoded data removed]",
            "text/plain": [
              "<Figure size 720x504 with 1 Axes>"
            ]
          },
          "metadata": {
            "needs_background": "light"
          }
        }
      ]
    },
    {
      "cell_type": "code",
      "metadata": {
        "colab": {
          "base_uri": "https://localhost:8080/"
        },
        "id": "qo7on8WBEbcw",
        "outputId": "5d8f2133-269d-483c-ae00-1519d7cb9196"
      },
      "source": [
        "# bar plot to understand the distribution of customers in each cluster\n",
        "points_in_each_cluster = [0,0,0,0]\n",
        "for c in clusters:\n",
        "  if c == 0:\n",
        "    points_in_each_cluster[0]+=1\n",
        "  elif c == 1:\n",
        "    points_in_each_cluster[1]+=1\n",
        "  elif c == 2:\n",
        "    points_in_each_cluster[2]+=1\n",
        "  else:\n",
        "    points_in_each_cluster[3]+=1\n",
        "\n",
        "print('Number of points in cluster 0 =',points_in_each_cluster[0])\n",
        "print('Number of points in cluster 1 =',points_in_each_cluster[1])\n",
        "print('Number of points in cluster 2 =',points_in_each_cluster[2])\n",
        "print('Number of points in cluster 3 =',points_in_each_cluster[3])"
      ],
      "execution_count": null,
      "outputs": [
        {
          "output_type": "stream",
          "name": "stdout",
          "text": [
            "Number of points in cluster 0 = 12677\n",
            "Number of points in cluster 1 = 12318\n",
            "Number of points in cluster 2 = 6388\n",
            "Number of points in cluster 3 = 10753\n"
          ]
        }
      ]
    },
    {
      "cell_type": "code",
      "metadata": {
        "colab": {
          "base_uri": "https://localhost:8080/",
          "height": 283
        },
        "id": "W1gIfzt5GkcG",
        "outputId": "3426b1e8-8bf4-47b4-f0d3-20e4bb158528"
      },
      "source": [
        "clust = ['clust1','clust2','clust3','clust4']\n",
        "plt.bar(clust,points_in_each_cluster, color=['green','blue','purple','yellow'])"
      ],
      "execution_count": null,
      "outputs": [
        {
          "output_type": "execute_result",
          "data": {
            "text/plain": [
              "<BarContainer object of 4 artists>"
            ]
          },
          "metadata": {},
          "execution_count": 57
        },
        {
          "output_type": "display_data",
          "data": {
            "image/png": "[encoded data removed]",
            "text/plain": [
              "<Figure size 432x288 with 1 Axes>"
            ]
          },
          "metadata": {
            "needs_background": "light"
          }
        }
      ]
    },
    {
      "cell_type": "code",
      "metadata": {
        "colab": {
          "base_uri": "https://localhost:8080/",
          "height": 422
        },
        "id": "3nOPkWw8HsRf",
        "outputId": "6890eb6b-96a6-4d0e-c2c7-5270b549faf2"
      },
      "source": [
        "customers_final"
      ],
      "execution_count": null,
      "outputs": [
        {
          "output_type": "execute_result",
          "data": {
            "text/html": [
              "<div>\n",
              "<style scoped>\n",
              "    .dataframe tbody tr th:only-of-type {\n",
              "        vertical-align: middle;\n",
              "    }\n",
              "\n",
              "    .dataframe tbody tr th {\n",
              "        vertical-align: top;\n",
              "    }\n",
              "\n",
              "    .dataframe thead th {\n",
              "        text-align: right;\n",
              "    }\n",
              "</style>\n",
              "<table border=\"1\" class=\"dataframe\">\n",
              "  <thead>\n",
              "    <tr style=\"text-align: right;\">\n",
              "      <th></th>\n",
              "      <th>scaled_products_ordered</th>\n",
              "      <th>scaled_return_rate</th>\n",
              "      <th>scaled_spending</th>\n",
              "    </tr>\n",
              "  </thead>\n",
              "  <tbody>\n",
              "    <tr>\n",
              "      <th>0</th>\n",
              "      <td>1.386294</td>\n",
              "      <td>0.0</td>\n",
              "      <td>5.564520</td>\n",
              "    </tr>\n",
              "    <tr>\n",
              "      <th>1</th>\n",
              "      <td>0.693147</td>\n",
              "      <td>0.0</td>\n",
              "      <td>4.384524</td>\n",
              "    </tr>\n",
              "    <tr>\n",
              "      <th>2</th>\n",
              "      <td>0.693147</td>\n",
              "      <td>0.0</td>\n",
              "      <td>5.460436</td>\n",
              "    </tr>\n",
              "    <tr>\n",
              "      <th>3</th>\n",
              "      <td>0.693147</td>\n",
              "      <td>0.0</td>\n",
              "      <td>5.460436</td>\n",
              "    </tr>\n",
              "    <tr>\n",
              "      <th>4</th>\n",
              "      <td>0.693147</td>\n",
              "      <td>0.0</td>\n",
              "      <td>5.460436</td>\n",
              "    </tr>\n",
              "    <tr>\n",
              "      <th>...</th>\n",
              "      <td>...</td>\n",
              "      <td>...</td>\n",
              "      <td>...</td>\n",
              "    </tr>\n",
              "    <tr>\n",
              "      <th>42131</th>\n",
              "      <td>0.693147</td>\n",
              "      <td>0.0</td>\n",
              "      <td>5.495117</td>\n",
              "    </tr>\n",
              "    <tr>\n",
              "      <th>42132</th>\n",
              "      <td>0.693147</td>\n",
              "      <td>0.0</td>\n",
              "      <td>4.499810</td>\n",
              "    </tr>\n",
              "    <tr>\n",
              "      <th>42133</th>\n",
              "      <td>1.098612</td>\n",
              "      <td>0.0</td>\n",
              "      <td>5.590987</td>\n",
              "    </tr>\n",
              "    <tr>\n",
              "      <th>42134</th>\n",
              "      <td>0.693147</td>\n",
              "      <td>0.0</td>\n",
              "      <td>5.590987</td>\n",
              "    </tr>\n",
              "    <tr>\n",
              "      <th>42135</th>\n",
              "      <td>0.693147</td>\n",
              "      <td>0.0</td>\n",
              "      <td>4.174387</td>\n",
              "    </tr>\n",
              "  </tbody>\n",
              "</table>\n",
              "<p>42136 rows × 3 columns</p>\n",
              "</div>"
            ],
            "text/plain": [
              "       scaled_products_ordered  scaled_return_rate  scaled_spending\n",
              "0                     1.386294                 0.0         5.564520\n",
              "1                     0.693147                 0.0         4.384524\n",
              "2                     0.693147                 0.0         5.460436\n",
              "3                     0.693147                 0.0         5.460436\n",
              "4                     0.693147                 0.0         5.460436\n",
              "...                        ...                 ...              ...\n",
              "42131                 0.693147                 0.0         5.495117\n",
              "42132                 0.693147                 0.0         4.499810\n",
              "42133                 1.098612                 0.0         5.590987\n",
              "42134                 0.693147                 0.0         5.590987\n",
              "42135                 0.693147                 0.0         4.174387\n",
              "\n",
              "[42136 rows x 3 columns]"
            ]
          },
          "metadata": {},
          "execution_count": 53
        }
      ]
    },
    {
      "cell_type": "code",
      "metadata": {
        "id": "P7kx9cSSH4Ib"
      },
      "source": [
        "# adding the cluster values in the dataframe\n",
        "customers_final['cluster_number'] = clusters"
      ],
      "execution_count": null,
      "outputs": []
    },
    {
      "cell_type": "code",
      "metadata": {
        "colab": {
          "base_uri": "https://localhost:8080/",
          "height": 422
        },
        "id": "a1VlFZIgIHJR",
        "outputId": "cb603752-1cd0-4f52-a274-358107f03162"
      },
      "source": [
        "customers_final"
      ],
      "execution_count": null,
      "outputs": [
        {
          "output_type": "execute_result",
          "data": {
            "text/html": [
              "<div>\n",
              "<style scoped>\n",
              "    .dataframe tbody tr th:only-of-type {\n",
              "        vertical-align: middle;\n",
              "    }\n",
              "\n",
              "    .dataframe tbody tr th {\n",
              "        vertical-align: top;\n",
              "    }\n",
              "\n",
              "    .dataframe thead th {\n",
              "        text-align: right;\n",
              "    }\n",
              "</style>\n",
              "<table border=\"1\" class=\"dataframe\">\n",
              "  <thead>\n",
              "    <tr style=\"text-align: right;\">\n",
              "      <th></th>\n",
              "      <th>scaled_products_ordered</th>\n",
              "      <th>scaled_return_rate</th>\n",
              "      <th>scaled_spending</th>\n",
              "      <th>cluster_number</th>\n",
              "    </tr>\n",
              "  </thead>\n",
              "  <tbody>\n",
              "    <tr>\n",
              "      <th>0</th>\n",
              "      <td>1.386294</td>\n",
              "      <td>0.0</td>\n",
              "      <td>5.564520</td>\n",
              "      <td>1</td>\n",
              "    </tr>\n",
              "    <tr>\n",
              "      <th>1</th>\n",
              "      <td>0.693147</td>\n",
              "      <td>0.0</td>\n",
              "      <td>4.384524</td>\n",
              "      <td>3</td>\n",
              "    </tr>\n",
              "    <tr>\n",
              "      <th>2</th>\n",
              "      <td>0.693147</td>\n",
              "      <td>0.0</td>\n",
              "      <td>5.460436</td>\n",
              "      <td>0</td>\n",
              "    </tr>\n",
              "    <tr>\n",
              "      <th>3</th>\n",
              "      <td>0.693147</td>\n",
              "      <td>0.0</td>\n",
              "      <td>5.460436</td>\n",
              "      <td>0</td>\n",
              "    </tr>\n",
              "    <tr>\n",
              "      <th>4</th>\n",
              "      <td>0.693147</td>\n",
              "      <td>0.0</td>\n",
              "      <td>5.460436</td>\n",
              "      <td>0</td>\n",
              "    </tr>\n",
              "    <tr>\n",
              "      <th>...</th>\n",
              "      <td>...</td>\n",
              "      <td>...</td>\n",
              "      <td>...</td>\n",
              "      <td>...</td>\n",
              "    </tr>\n",
              "    <tr>\n",
              "      <th>42131</th>\n",
              "      <td>0.693147</td>\n",
              "      <td>0.0</td>\n",
              "      <td>5.495117</td>\n",
              "      <td>1</td>\n",
              "    </tr>\n",
              "    <tr>\n",
              "      <th>42132</th>\n",
              "      <td>0.693147</td>\n",
              "      <td>0.0</td>\n",
              "      <td>4.499810</td>\n",
              "      <td>3</td>\n",
              "    </tr>\n",
              "    <tr>\n",
              "      <th>42133</th>\n",
              "      <td>1.098612</td>\n",
              "      <td>0.0</td>\n",
              "      <td>5.590987</td>\n",
              "      <td>1</td>\n",
              "    </tr>\n",
              "    <tr>\n",
              "      <th>42134</th>\n",
              "      <td>0.693147</td>\n",
              "      <td>0.0</td>\n",
              "      <td>5.590987</td>\n",
              "      <td>1</td>\n",
              "    </tr>\n",
              "    <tr>\n",
              "      <th>42135</th>\n",
              "      <td>0.693147</td>\n",
              "      <td>0.0</td>\n",
              "      <td>4.174387</td>\n",
              "      <td>3</td>\n",
              "    </tr>\n",
              "  </tbody>\n",
              "</table>\n",
              "<p>42136 rows × 4 columns</p>\n",
              "</div>"
            ],
            "text/plain": [
              "       scaled_products_ordered  ...  cluster_number\n",
              "0                     1.386294  ...               1\n",
              "1                     0.693147  ...               3\n",
              "2                     0.693147  ...               0\n",
              "3                     0.693147  ...               0\n",
              "4                     0.693147  ...               0\n",
              "...                        ...  ...             ...\n",
              "42131                 0.693147  ...               1\n",
              "42132                 0.693147  ...               3\n",
              "42133                 1.098612  ...               1\n",
              "42134                 0.693147  ...               1\n",
              "42135                 0.693147  ...               3\n",
              "\n",
              "[42136 rows x 4 columns]"
            ]
          },
          "metadata": {},
          "execution_count": 55
        }
      ]
    }
  ]
}